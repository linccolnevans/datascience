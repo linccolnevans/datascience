{
  "nbformat": 4,
  "nbformat_minor": 0,
  "metadata": {
    "colab": {
      "provenance": [],
      "include_colab_link": true
    },
    "kernelspec": {
      "name": "python3",
      "display_name": "Python 3"
    },
    "language_info": {
      "name": "python"
    }
  },
  "cells": [
    {
      "cell_type": "markdown",
      "metadata": {
        "id": "view-in-github",
        "colab_type": "text"
      },
      "source": [
        "<a href=\"https://colab.research.google.com/github/linccolnevans/datascience/blob/main/LincEvanUnit8ExercisesSF.ipynb\" target=\"_parent\"><img src=\"https://colab.research.google.com/assets/colab-badge.svg\" alt=\"Open In Colab\"/></a>"
      ]
    },
    {
      "cell_type": "markdown",
      "source": [
        "# Unit 8 Exercises: The Art of BART\n",
        "\n",
        "These exercises are grouped into two parts:\n",
        "\n",
        "- Questions on the nature of decision trees, random forests, and BART models\n",
        "- An oppurtunity to practice implementing and analyzing a BART model.\n",
        "\n",
        "Enjoy!"
      ],
      "metadata": {
        "id": "NwsvoL28fIVf"
      }
    },
    {
      "cell_type": "code",
      "source": [
        "import arviz as az\n",
        "import matplotlib.pyplot as plt\n",
        "import numpy as np\n",
        "import pandas as pd\n",
        "import pymc as pm\n",
        "import seaborn as sns"
      ],
      "metadata": {
        "id": "3wH-mwXthFef"
      },
      "execution_count": null,
      "outputs": []
    },
    {
      "cell_type": "code",
      "source": [
        "!pip install pymc-bart\n",
        "import pymc_bart as pmb"
      ],
      "metadata": {
        "colab": {
          "base_uri": "https://localhost:8080/"
        },
        "id": "c0ZrLND8hxYZ",
        "outputId": "dcfaafe2-0342-4f2b-8e8e-0444075a8dde"
      },
      "execution_count": null,
      "outputs": [
        {
          "output_type": "stream",
          "name": "stdout",
          "text": [
            "Requirement already satisfied: pymc-bart in /usr/local/lib/python3.11/dist-packages (0.9.0)\n",
            "Requirement already satisfied: pymc<=5.20.1,>=5.16.2 in /usr/local/lib/python3.11/dist-packages (from pymc-bart) (5.20.1)\n",
            "Requirement already satisfied: arviz>=0.18.0 in /usr/local/lib/python3.11/dist-packages (from pymc-bart) (0.21.0)\n",
            "Requirement already satisfied: numba in /usr/local/lib/python3.11/dist-packages (from pymc-bart) (0.60.0)\n",
            "Requirement already satisfied: matplotlib in /usr/local/lib/python3.11/dist-packages (from pymc-bart) (3.10.0)\n",
            "Requirement already satisfied: numpy in /usr/local/lib/python3.11/dist-packages (from pymc-bart) (1.26.4)\n",
            "Requirement already satisfied: setuptools>=60.0.0 in /usr/local/lib/python3.11/dist-packages (from arviz>=0.18.0->pymc-bart) (75.1.0)\n",
            "Requirement already satisfied: scipy>=1.9.0 in /usr/local/lib/python3.11/dist-packages (from arviz>=0.18.0->pymc-bart) (1.14.1)\n",
            "Requirement already satisfied: packaging in /usr/local/lib/python3.11/dist-packages (from arviz>=0.18.0->pymc-bart) (24.2)\n",
            "Requirement already satisfied: pandas>=1.5.0 in /usr/local/lib/python3.11/dist-packages (from arviz>=0.18.0->pymc-bart) (2.2.2)\n",
            "Requirement already satisfied: xarray>=2022.6.0 in /usr/local/lib/python3.11/dist-packages (from arviz>=0.18.0->pymc-bart) (2025.1.2)\n",
            "Requirement already satisfied: h5netcdf>=1.0.2 in /usr/local/lib/python3.11/dist-packages (from arviz>=0.18.0->pymc-bart) (1.6.1)\n",
            "Requirement already satisfied: typing-extensions>=4.1.0 in /usr/local/lib/python3.11/dist-packages (from arviz>=0.18.0->pymc-bart) (4.12.2)\n",
            "Requirement already satisfied: xarray-einstats>=0.3 in /usr/local/lib/python3.11/dist-packages (from arviz>=0.18.0->pymc-bart) (0.8.0)\n",
            "Requirement already satisfied: contourpy>=1.0.1 in /usr/local/lib/python3.11/dist-packages (from matplotlib->pymc-bart) (1.3.1)\n",
            "Requirement already satisfied: cycler>=0.10 in /usr/local/lib/python3.11/dist-packages (from matplotlib->pymc-bart) (0.12.1)\n",
            "Requirement already satisfied: fonttools>=4.22.0 in /usr/local/lib/python3.11/dist-packages (from matplotlib->pymc-bart) (4.56.0)\n",
            "Requirement already satisfied: kiwisolver>=1.3.1 in /usr/local/lib/python3.11/dist-packages (from matplotlib->pymc-bart) (1.4.8)\n",
            "Requirement already satisfied: pillow>=8 in /usr/local/lib/python3.11/dist-packages (from matplotlib->pymc-bart) (11.1.0)\n",
            "Requirement already satisfied: pyparsing>=2.3.1 in /usr/local/lib/python3.11/dist-packages (from matplotlib->pymc-bart) (3.2.1)\n",
            "Requirement already satisfied: python-dateutil>=2.7 in /usr/local/lib/python3.11/dist-packages (from matplotlib->pymc-bart) (2.8.2)\n",
            "Requirement already satisfied: cachetools>=4.2.1 in /usr/local/lib/python3.11/dist-packages (from pymc<=5.20.1,>=5.16.2->pymc-bart) (5.5.2)\n",
            "Requirement already satisfied: cloudpickle in /usr/local/lib/python3.11/dist-packages (from pymc<=5.20.1,>=5.16.2->pymc-bart) (3.1.1)\n",
            "Requirement already satisfied: pytensor<2.28,>=2.26.1 in /usr/local/lib/python3.11/dist-packages (from pymc<=5.20.1,>=5.16.2->pymc-bart) (2.27.1)\n",
            "Requirement already satisfied: rich>=13.7.1 in /usr/local/lib/python3.11/dist-packages (from pymc<=5.20.1,>=5.16.2->pymc-bart) (13.9.4)\n",
            "Requirement already satisfied: threadpoolctl<4.0.0,>=3.1.0 in /usr/local/lib/python3.11/dist-packages (from pymc<=5.20.1,>=5.16.2->pymc-bart) (3.6.0)\n",
            "Requirement already satisfied: llvmlite<0.44,>=0.43.0dev0 in /usr/local/lib/python3.11/dist-packages (from numba->pymc-bart) (0.43.0)\n",
            "Requirement already satisfied: h5py in /usr/local/lib/python3.11/dist-packages (from h5netcdf>=1.0.2->arviz>=0.18.0->pymc-bart) (3.13.0)\n",
            "Requirement already satisfied: pytz>=2020.1 in /usr/local/lib/python3.11/dist-packages (from pandas>=1.5.0->arviz>=0.18.0->pymc-bart) (2025.1)\n",
            "Requirement already satisfied: tzdata>=2022.7 in /usr/local/lib/python3.11/dist-packages (from pandas>=1.5.0->arviz>=0.18.0->pymc-bart) (2025.1)\n",
            "Requirement already satisfied: filelock>=3.15 in /usr/local/lib/python3.11/dist-packages (from pytensor<2.28,>=2.26.1->pymc<=5.20.1,>=5.16.2->pymc-bart) (3.18.0)\n",
            "Requirement already satisfied: etuples in /usr/local/lib/python3.11/dist-packages (from pytensor<2.28,>=2.26.1->pymc<=5.20.1,>=5.16.2->pymc-bart) (0.3.9)\n",
            "Requirement already satisfied: logical-unification in /usr/local/lib/python3.11/dist-packages (from pytensor<2.28,>=2.26.1->pymc<=5.20.1,>=5.16.2->pymc-bart) (0.4.6)\n",
            "Requirement already satisfied: miniKanren in /usr/local/lib/python3.11/dist-packages (from pytensor<2.28,>=2.26.1->pymc<=5.20.1,>=5.16.2->pymc-bart) (1.0.3)\n",
            "Requirement already satisfied: cons in /usr/local/lib/python3.11/dist-packages (from pytensor<2.28,>=2.26.1->pymc<=5.20.1,>=5.16.2->pymc-bart) (0.4.6)\n",
            "Requirement already satisfied: six>=1.5 in /usr/local/lib/python3.11/dist-packages (from python-dateutil>=2.7->matplotlib->pymc-bart) (1.17.0)\n",
            "Requirement already satisfied: markdown-it-py>=2.2.0 in /usr/local/lib/python3.11/dist-packages (from rich>=13.7.1->pymc<=5.20.1,>=5.16.2->pymc-bart) (3.0.0)\n",
            "Requirement already satisfied: pygments<3.0.0,>=2.13.0 in /usr/local/lib/python3.11/dist-packages (from rich>=13.7.1->pymc<=5.20.1,>=5.16.2->pymc-bart) (2.18.0)\n",
            "Requirement already satisfied: mdurl~=0.1 in /usr/local/lib/python3.11/dist-packages (from markdown-it-py>=2.2.0->rich>=13.7.1->pymc<=5.20.1,>=5.16.2->pymc-bart) (0.1.2)\n",
            "Requirement already satisfied: toolz in /usr/local/lib/python3.11/dist-packages (from logical-unification->pytensor<2.28,>=2.26.1->pymc<=5.20.1,>=5.16.2->pymc-bart) (0.12.1)\n",
            "Requirement already satisfied: multipledispatch in /usr/local/lib/python3.11/dist-packages (from logical-unification->pytensor<2.28,>=2.26.1->pymc<=5.20.1,>=5.16.2->pymc-bart) (1.0.0)\n"
          ]
        }
      ]
    },
    {
      "cell_type": "code",
      "source": [
        "from sklearn import tree"
      ],
      "metadata": {
        "id": "eITOzx8Zi9GY"
      },
      "execution_count": null,
      "outputs": []
    },
    {
      "cell_type": "markdown",
      "source": [
        "## Bartian Theory"
      ],
      "metadata": {
        "id": "3O91lqIHh2jR"
      }
    },
    {
      "cell_type": "markdown",
      "source": [
        "**Task1**:\n",
        "\n",
        "Draw a decision tree--on a physical piece of paper--that predicts how many calories you burn in a day, using time you spent exercising that day (in minutes) as a predictor.\n",
        "\n",
        "To help you understand what you're doing with this tree, seperately create an x/y plot with time exercising as x, and calories burned as y.\n",
        "\n",
        "If this seems to easy, then add another variable or two (type of exercise?), and/or increase the depth of your tree.\n",
        "\n",
        "You do not have to show me or turn in your tree to earn credit for this question, although I would like to see your drawing."
      ],
      "metadata": {
        "id": "IEvYMB3tiAik"
      }
    },
    {
      "cell_type": "markdown",
      "source": [
        "**Task2**:\n",
        "\n",
        "What is a decision tree? How do they work?"
      ],
      "metadata": {
        "id": "qAL92TusjVne"
      }
    },
    {
      "cell_type": "markdown",
      "source": [
        "A decision tree is a flowchart-like structure that visually represents possible decisions and their potential outcomes. They help you evaluate alternatives and make your choices with additional info to their outcomes."
      ],
      "metadata": {
        "id": "EBRI0lgqZYZN"
      }
    },
    {
      "cell_type": "markdown",
      "source": [
        "**Task3**:\n",
        "\n",
        "What does the \"depth\" of a decision tree mean?\n",
        "\n",
        "How do I know if a tree is too deep, or not deep enough?"
      ],
      "metadata": {
        "id": "qnEa-WIYlH14"
      }
    },
    {
      "cell_type": "markdown",
      "source": [
        "The depth of a decision tree refers to the mundanity of the leafs on the tree such as did you drink coffee today -) you will be less hungry, or any other odd thing that doesnt effect real outcomes. So its when the tree learns the training data too well and has poor generalization. When the tre is too shallow it may not capture underlying patterns in the data."
      ],
      "metadata": {
        "id": "6FPuxEDEZj7A"
      }
    },
    {
      "cell_type": "markdown",
      "source": [
        "**Task4:**\n",
        "\n",
        "How are BART models similar and different from a decision tree?"
      ],
      "metadata": {
        "id": "HDR22vp3uXgc"
      }
    },
    {
      "cell_type": "markdown",
      "source": [
        " BART excels in natural language processing tasks like text summarization and translation and decision trees are used for classification and regression offering interpretability and simplicity"
      ],
      "metadata": {
        "id": "ChrncS1qadiC"
      }
    },
    {
      "cell_type": "markdown",
      "source": [
        "**Task5**:\n",
        "\n",
        "Why would we use a BART model instead of a decision tree?"
      ],
      "metadata": {
        "id": "8lxcoCI0vkIu"
      }
    },
    {
      "cell_type": "markdown",
      "source": [
        "You would use a BART model when you want a more flexible model that can handle noise, underlying patterns, and uncertainty."
      ],
      "metadata": {
        "id": "R0ogOIo-auAI"
      }
    },
    {
      "cell_type": "markdown",
      "source": [
        "## Bartian Penguins"
      ],
      "metadata": {
        "id": "GBihX_8tAvgS"
      }
    },
    {
      "cell_type": "markdown",
      "source": [
        "**Task6**:\n",
        "\n",
        "Create a BART model that uses flipper length, bill depth, and bill length to predict body mass in penguins, and make a ppc to check its fit\n",
        "\n",
        "Code for loading the data is below. You'll need to do everything else yourself.\n",
        "\n",
        "Remember to use my notes as a reference, and to copy and paste from them when it makes sense to.\n",
        "\n",
        "Oh, and try a normal likelihood."
      ],
      "metadata": {
        "id": "DixKVSL1w9FJ"
      }
    },
    {
      "cell_type": "code",
      "source": [
        "#drop the incomplete rows from the data\n",
        "url=\"https://raw.githubusercontent.com/thedarredondo/data-science-fundamentals/main/Data/penguins.csv\"\n",
        "penguins = pd.read_csv(url).dropna()"
      ],
      "metadata": {
        "id": "WHwxrrVlyKgz"
      },
      "execution_count": null,
      "outputs": []
    },
    {
      "cell_type": "markdown",
      "source": [
        "**Task7**:\n",
        "\n",
        "Plot flipper length versus body mass,\n",
        "\n",
        "and then plot the posterior predictve from the model over the data.\n",
        "You're going to copy paste the plotting code from the notes, fyi."
      ],
      "metadata": {
        "id": "LdZ9ZKQ8zCje"
      }
    },
    {
      "cell_type": "markdown",
      "source": [
        "**Task8**:\n",
        "\n",
        "Interpret the plot above in context. Do you think it captures the true association between flipper length and body mass in penguins? Why or why not? Make sure to reference specific things you see in the plot."
      ],
      "metadata": {
        "id": "aaJfHSvIzbCC"
      }
    },
    {
      "cell_type": "markdown",
      "source": [
        "I believe it deos because I looked at the data and the plot and noticed that they both increase with each other"
      ],
      "metadata": {
        "id": "c6vPHXBegZb4"
      }
    },
    {
      "cell_type": "markdown",
      "source": [
        "**Task9**:\n",
        "\n",
        "Create partial depnedence plots (pdps), individual conditional expectation (ice) plots, and a variable importance plot for the BARTpenguin model."
      ],
      "metadata": {
        "id": "vg8ROtVj09Mn"
      }
    },
    {
      "cell_type": "markdown",
      "source": [
        "**Task10**:\n",
        "\n",
        "Using the above plots, make an argument about which variable(s) is/are most important in predicting body mass in penguins.\n",
        "\n",
        "What is the relationship for each variable to body mass, when you take the other variables into account?\n",
        "\n",
        "Is that relationship complicated by interactions between variables? How do you know?\n",
        "\n",
        "Make sure to reference specific things you see in each plot, to justify your decisions and comments."
      ],
      "metadata": {
        "id": "65fXsQ-R1O69"
      }
    }
  ]
}