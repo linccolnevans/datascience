{
  "nbformat": 4,
  "nbformat_minor": 0,
  "metadata": {
    "colab": {
      "provenance": [],
      "include_colab_link": true
    },
    "kernelspec": {
      "name": "python3",
      "display_name": "Python 3"
    },
    "language_info": {
      "name": "python"
    }
  },
  "cells": [
    {
      "cell_type": "markdown",
      "metadata": {
        "id": "view-in-github",
        "colab_type": "text"
      },
      "source": [
        "<a href=\"https://colab.research.google.com/github/linccolnevans/datascience/blob/main/LincEvanUnit5Project.ipynb\" target=\"_parent\"><img src=\"https://colab.research.google.com/assets/colab-badge.svg\" alt=\"Open In Colab\"/></a>"
      ]
    },
    {
      "cell_type": "markdown",
      "source": [
        "You need to submit a .ipynb file with the first four letters of one first name, the first four letters of one last name, and U5proj.\n",
        "\n",
        "Ex.\n",
        "\n",
        "A student named Avy Aguacate Avocado Palta will submit a file named \"Avy_AvocU5proj.ipynb\", since she normally just goes by Avy, and, when pressed, reports Avocado as her last name. The \" _ \" after \"Avy\" serves as the fourth \"letter\" in her first name.\n",
        "\n",
        "Ex2.\n",
        "\n",
        "Army Armadillo will submit a file named \"ArmyArmaU5proj.ipynb\""
      ],
      "metadata": {
        "id": "GkD7Y6hFZdzW"
      }
    },
    {
      "cell_type": "markdown",
      "source": [
        "Example Dataset: Titanic Survival Data (One Predictor)\n",
        "\n",
        "Description: The dataset contains information about Titanic passengers, such as age, class, sex, and survival status. In this case, we will focus on just one predictor.\n",
        "Response Variable: Survived (binary: 0 = No, 1 = Yes).\n",
        "Predictor: Sex (categorical: Male or Female).\n",
        "GLM Type: Logistic Regression (using a binomial distribution).\n",
        "Usage: To predict the probability of survival based solely on the gender of the passengers."
      ],
      "metadata": {
        "id": "zhZwx3YubaBT"
      }
    },
    {
      "cell_type": "markdown",
      "source": [
        "# Unit 5 Project: Making a Generalized Linear Model (1 predictor)\n",
        "\n",
        "**Task**:\n",
        "\n",
        "Two parts:\n",
        "\n",
        "1. Propose a data set that's compatible with a generalized linear model structure built with pymc. I must approve your submission before you move on to part 2.\n",
        "\n",
        "2. Create, analyze, and present a generalized linear model using pymc within the colab environment, on a data set of your choice.\n",
        "\n"
      ],
      "metadata": {
        "id": "hIWO5hU4NeAg"
      }
    },
    {
      "cell_type": "markdown",
      "source": [
        "Guidlines:\n",
        "\n",
        "- You are allowed to copy and paste any code from the notes, including my answer key (AK), without any reference or citations. Same goes for the course textbook, BAP3.\n",
        "\n",
        "- This is an individual project. It is fine if you model the same process as a peer, but your raw data **must** be substantially different. \"Substantially different\" means that I, your instructor, arbitrarily think your data sets are different enough.\n",
        "\n",
        "- Do not look at other student's code/jupyter notebooks. Copying, or copying and pasting, other students code will result in a failing grade. Also, I will tell all the other teachers I know that you cheated.\n",
        "\n",
        "- If you want to know what another student did, ask them--any verbal communication about a project is allowed and encouraged. If you want to see a graphic they made, ask them to sketch a picture of it for you by hand.\n",
        "\n",
        "- Any handwritten communication is also allowed and encouraged, so long as all parties are in the same physical location together. Example: you may sketch out a piece of code while verbally explaining to someone what you did. Do NOT: hand write the code for your entire project, take a picture, and send it to everyone in the course.\n",
        "\n",
        "- If you use someone's code from outside this course (like from the internet, an AI, or your parent), you must ask me if it is ok, and you must cite them in your work. I don't care all they did was to click your space bar one more time: you tell me, and you cite their contribution. You don't need to tell me about or cite verbal or handwritten communication though.\n",
        "\n",
        "- You may use a more complicated model--like something from further along in the course--IF I give you permission.\n",
        "\n",
        "- If you are unsure whether or not something is ok or allowed: ASK BEFORE YOU DO IT.\n",
        "\n",
        "Faliure to adhere to these guidlines will result in a failing grade."
      ],
      "metadata": {
        "id": "iG3eGgAnPT6b"
      }
    },
    {
      "cell_type": "markdown",
      "source": [
        "Tips:\n",
        "\n",
        "- Try to pick something that you care about, have knowledge of, experience with, or that you find interesting/cool.\n",
        "\n",
        "- Gather data *before* picking a likelihood.\n",
        "\n",
        "-  Use your best idea now; maybe you can look at the context you used in the previous project, and gather different data from it.\n",
        "\n",
        "- Linear models are generalized linear models. This is not a competition to come up with the most complicated heirearchical glm. **Find a data set that interests you, and apply the simplest model that captures the patterns in the data.**\n",
        "\n",
        "- Comment heavily, and explain your steps and thought process with text blocks. This is not only requried, it'll also help you understand what you're doing and what you want to do.\n",
        "\n",
        "- Want an example? The Unit5NotesAK *is* your example! You are expected to be somewhere between a half and three-quarters as detailed--but more is always welcome.\n",
        "\n",
        "- Its ok to pick a data set for which you don't qute understand the context--so long as you think the context is cool.\n"
      ],
      "metadata": {
        "id": "YJPcaPErSNjc"
      }
    },
    {
      "cell_type": "markdown",
      "source": [
        "my data set is batting sweet spot percent compared to hard hit percent, to see if the players that hit the ball with the best prat of the bat on average swing the hardest and put the ball into play at a high speed."
      ],
      "metadata": {
        "id": "c3psXzR5G3tT"
      }
    },
    {
      "cell_type": "code",
      "source": [
        "\n",
        "import numpy as np\n",
        "from matplotlib import pyplot as plt\n",
        "import seaborn as sns\n",
        "import pandas as pd\n",
        "import arviz as az\n",
        "import xarray as xr\n",
        "import pymc as pm\n",
        "\n",
        "from scipy.interpolate import PchipInterpolator"
      ],
      "metadata": {
        "id": "RykwKHHYG01z"
      },
      "execution_count": 1,
      "outputs": []
    },
    {
      "cell_type": "code",
      "source": [
        "url_baseball = 'https://github.com/linccolnevans/datascience/blob/78818e24a430c887cc516b8f1c373212c95b7800/baseballstats.csv'"
      ],
      "metadata": {
        "id": "Wkfa7U_tG-Fv"
      },
      "execution_count": 2,
      "outputs": []
    },
    {
      "cell_type": "code",
      "source": [
        "baseball = pd.read_csv(url_baseball)"
      ],
      "metadata": {
        "colab": {
          "base_uri": "https://localhost:8080/",
          "height": 460
        },
        "id": "rL9WEOu0HySs",
        "outputId": "da800d2f-fd40-428f-fc3a-02c20d9eaaed"
      },
      "execution_count": 9,
      "outputs": [
        {
          "output_type": "error",
          "ename": "ParserError",
          "evalue": "Error tokenizing data. C error: Expected 1 fields in line 42, saw 30\n",
          "traceback": [
            "\u001b[0;31m---------------------------------------------------------------------------\u001b[0m",
            "\u001b[0;31mParserError\u001b[0m                               Traceback (most recent call last)",
            "\u001b[0;32m<ipython-input-9-ccd2d9dd79c2>\u001b[0m in \u001b[0;36m<cell line: 1>\u001b[0;34m()\u001b[0m\n\u001b[0;32m----> 1\u001b[0;31m \u001b[0mbaseball\u001b[0m \u001b[0;34m=\u001b[0m \u001b[0mpd\u001b[0m\u001b[0;34m.\u001b[0m\u001b[0mread_csv\u001b[0m\u001b[0;34m(\u001b[0m\u001b[0murl_baseball\u001b[0m\u001b[0;34m)\u001b[0m\u001b[0;34m\u001b[0m\u001b[0;34m\u001b[0m\u001b[0m\n\u001b[0m",
            "\u001b[0;32m/usr/local/lib/python3.10/dist-packages/pandas/io/parsers/readers.py\u001b[0m in \u001b[0;36mread_csv\u001b[0;34m(filepath_or_buffer, sep, delimiter, header, names, index_col, usecols, dtype, engine, converters, true_values, false_values, skipinitialspace, skiprows, skipfooter, nrows, na_values, keep_default_na, na_filter, verbose, skip_blank_lines, parse_dates, infer_datetime_format, keep_date_col, date_parser, date_format, dayfirst, cache_dates, iterator, chunksize, compression, thousands, decimal, lineterminator, quotechar, quoting, doublequote, escapechar, comment, encoding, encoding_errors, dialect, on_bad_lines, delim_whitespace, low_memory, memory_map, float_precision, storage_options, dtype_backend)\u001b[0m\n\u001b[1;32m   1024\u001b[0m     \u001b[0mkwds\u001b[0m\u001b[0;34m.\u001b[0m\u001b[0mupdate\u001b[0m\u001b[0;34m(\u001b[0m\u001b[0mkwds_defaults\u001b[0m\u001b[0;34m)\u001b[0m\u001b[0;34m\u001b[0m\u001b[0;34m\u001b[0m\u001b[0m\n\u001b[1;32m   1025\u001b[0m \u001b[0;34m\u001b[0m\u001b[0m\n\u001b[0;32m-> 1026\u001b[0;31m     \u001b[0;32mreturn\u001b[0m \u001b[0m_read\u001b[0m\u001b[0;34m(\u001b[0m\u001b[0mfilepath_or_buffer\u001b[0m\u001b[0;34m,\u001b[0m \u001b[0mkwds\u001b[0m\u001b[0;34m)\u001b[0m\u001b[0;34m\u001b[0m\u001b[0;34m\u001b[0m\u001b[0m\n\u001b[0m\u001b[1;32m   1027\u001b[0m \u001b[0;34m\u001b[0m\u001b[0m\n\u001b[1;32m   1028\u001b[0m \u001b[0;34m\u001b[0m\u001b[0m\n",
            "\u001b[0;32m/usr/local/lib/python3.10/dist-packages/pandas/io/parsers/readers.py\u001b[0m in \u001b[0;36m_read\u001b[0;34m(filepath_or_buffer, kwds)\u001b[0m\n\u001b[1;32m    624\u001b[0m \u001b[0;34m\u001b[0m\u001b[0m\n\u001b[1;32m    625\u001b[0m     \u001b[0;32mwith\u001b[0m \u001b[0mparser\u001b[0m\u001b[0;34m:\u001b[0m\u001b[0;34m\u001b[0m\u001b[0;34m\u001b[0m\u001b[0m\n\u001b[0;32m--> 626\u001b[0;31m         \u001b[0;32mreturn\u001b[0m \u001b[0mparser\u001b[0m\u001b[0;34m.\u001b[0m\u001b[0mread\u001b[0m\u001b[0;34m(\u001b[0m\u001b[0mnrows\u001b[0m\u001b[0;34m)\u001b[0m\u001b[0;34m\u001b[0m\u001b[0;34m\u001b[0m\u001b[0m\n\u001b[0m\u001b[1;32m    627\u001b[0m \u001b[0;34m\u001b[0m\u001b[0m\n\u001b[1;32m    628\u001b[0m \u001b[0;34m\u001b[0m\u001b[0m\n",
            "\u001b[0;32m/usr/local/lib/python3.10/dist-packages/pandas/io/parsers/readers.py\u001b[0m in \u001b[0;36mread\u001b[0;34m(self, nrows)\u001b[0m\n\u001b[1;32m   1921\u001b[0m                     \u001b[0mcolumns\u001b[0m\u001b[0;34m,\u001b[0m\u001b[0;34m\u001b[0m\u001b[0;34m\u001b[0m\u001b[0m\n\u001b[1;32m   1922\u001b[0m                     \u001b[0mcol_dict\u001b[0m\u001b[0;34m,\u001b[0m\u001b[0;34m\u001b[0m\u001b[0;34m\u001b[0m\u001b[0m\n\u001b[0;32m-> 1923\u001b[0;31m                 \u001b[0;34m)\u001b[0m \u001b[0;34m=\u001b[0m \u001b[0mself\u001b[0m\u001b[0;34m.\u001b[0m\u001b[0m_engine\u001b[0m\u001b[0;34m.\u001b[0m\u001b[0mread\u001b[0m\u001b[0;34m(\u001b[0m  \u001b[0;31m# type: ignore[attr-defined]\u001b[0m\u001b[0;34m\u001b[0m\u001b[0;34m\u001b[0m\u001b[0m\n\u001b[0m\u001b[1;32m   1924\u001b[0m                     \u001b[0mnrows\u001b[0m\u001b[0;34m\u001b[0m\u001b[0;34m\u001b[0m\u001b[0m\n\u001b[1;32m   1925\u001b[0m                 )\n",
            "\u001b[0;32m/usr/local/lib/python3.10/dist-packages/pandas/io/parsers/c_parser_wrapper.py\u001b[0m in \u001b[0;36mread\u001b[0;34m(self, nrows)\u001b[0m\n\u001b[1;32m    232\u001b[0m         \u001b[0;32mtry\u001b[0m\u001b[0;34m:\u001b[0m\u001b[0;34m\u001b[0m\u001b[0;34m\u001b[0m\u001b[0m\n\u001b[1;32m    233\u001b[0m             \u001b[0;32mif\u001b[0m \u001b[0mself\u001b[0m\u001b[0;34m.\u001b[0m\u001b[0mlow_memory\u001b[0m\u001b[0;34m:\u001b[0m\u001b[0;34m\u001b[0m\u001b[0;34m\u001b[0m\u001b[0m\n\u001b[0;32m--> 234\u001b[0;31m                 \u001b[0mchunks\u001b[0m \u001b[0;34m=\u001b[0m \u001b[0mself\u001b[0m\u001b[0;34m.\u001b[0m\u001b[0m_reader\u001b[0m\u001b[0;34m.\u001b[0m\u001b[0mread_low_memory\u001b[0m\u001b[0;34m(\u001b[0m\u001b[0mnrows\u001b[0m\u001b[0;34m)\u001b[0m\u001b[0;34m\u001b[0m\u001b[0;34m\u001b[0m\u001b[0m\n\u001b[0m\u001b[1;32m    235\u001b[0m                 \u001b[0;31m# destructive to chunks\u001b[0m\u001b[0;34m\u001b[0m\u001b[0;34m\u001b[0m\u001b[0m\n\u001b[1;32m    236\u001b[0m                 \u001b[0mdata\u001b[0m \u001b[0;34m=\u001b[0m \u001b[0m_concatenate_chunks\u001b[0m\u001b[0;34m(\u001b[0m\u001b[0mchunks\u001b[0m\u001b[0;34m)\u001b[0m\u001b[0;34m\u001b[0m\u001b[0;34m\u001b[0m\u001b[0m\n",
            "\u001b[0;32mparsers.pyx\u001b[0m in \u001b[0;36mpandas._libs.parsers.TextReader.read_low_memory\u001b[0;34m()\u001b[0m\n",
            "\u001b[0;32mparsers.pyx\u001b[0m in \u001b[0;36mpandas._libs.parsers.TextReader._read_rows\u001b[0;34m()\u001b[0m\n",
            "\u001b[0;32mparsers.pyx\u001b[0m in \u001b[0;36mpandas._libs.parsers.TextReader._tokenize_rows\u001b[0;34m()\u001b[0m\n",
            "\u001b[0;32mparsers.pyx\u001b[0m in \u001b[0;36mpandas._libs.parsers.TextReader._check_tokenize_status\u001b[0;34m()\u001b[0m\n",
            "\u001b[0;32mparsers.pyx\u001b[0m in \u001b[0;36mpandas._libs.parsers.raise_parser_error\u001b[0;34m()\u001b[0m\n",
            "\u001b[0;31mParserError\u001b[0m: Error tokenizing data. C error: Expected 1 fields in line 42, saw 30\n"
          ]
        }
      ]
    },
    {
      "cell_type": "code",
      "source": [
        "baseball"
      ],
      "metadata": {
        "colab": {
          "base_uri": "https://localhost:8080/",
          "height": 141
        },
        "id": "M6wG_R62IK2X",
        "outputId": "36ef9a16-db9d-4b10-ccb0-aecaa93d598d"
      },
      "execution_count": 6,
      "outputs": [
        {
          "output_type": "error",
          "ename": "NameError",
          "evalue": "name 'baseball' is not defined",
          "traceback": [
            "\u001b[0;31m---------------------------------------------------------------------------\u001b[0m",
            "\u001b[0;31mNameError\u001b[0m                                 Traceback (most recent call last)",
            "\u001b[0;32m<ipython-input-6-e1f48cd1226e>\u001b[0m in \u001b[0;36m<cell line: 1>\u001b[0;34m()\u001b[0m\n\u001b[0;32m----> 1\u001b[0;31m \u001b[0mbaseball\u001b[0m\u001b[0;34m\u001b[0m\u001b[0;34m\u001b[0m\u001b[0m\n\u001b[0m",
            "\u001b[0;31mNameError\u001b[0m: name 'baseball' is not defined"
          ]
        }
      ]
    },
    {
      "cell_type": "code",
      "source": [
        "baseball.plot(x=\"sweet_spot_percent\", y=\"hard_hit_percent\", figsize=(12, 3), kind=\"scatter\")"
      ],
      "metadata": {
        "colab": {
          "base_uri": "https://localhost:8080/",
          "height": 141
        },
        "id": "2bdaOj6VHMte",
        "outputId": "287bfbe0-77c5-46f6-d037-7ec544bbb0d7"
      },
      "execution_count": 3,
      "outputs": [
        {
          "output_type": "error",
          "ename": "NameError",
          "evalue": "name 'baseball' is not defined",
          "traceback": [
            "\u001b[0;31m---------------------------------------------------------------------------\u001b[0m",
            "\u001b[0;31mNameError\u001b[0m                                 Traceback (most recent call last)",
            "\u001b[0;32m<ipython-input-3-d357d22db88f>\u001b[0m in \u001b[0;36m<cell line: 1>\u001b[0;34m()\u001b[0m\n\u001b[0;32m----> 1\u001b[0;31m \u001b[0mbaseball\u001b[0m\u001b[0;34m.\u001b[0m\u001b[0mplot\u001b[0m\u001b[0;34m(\u001b[0m\u001b[0mx\u001b[0m\u001b[0;34m=\u001b[0m\u001b[0;34m\"sweet_spot_percent\"\u001b[0m\u001b[0;34m,\u001b[0m \u001b[0my\u001b[0m\u001b[0;34m=\u001b[0m\u001b[0;34m\"hard_hit_percent\"\u001b[0m\u001b[0;34m,\u001b[0m \u001b[0mfigsize\u001b[0m\u001b[0;34m=\u001b[0m\u001b[0;34m(\u001b[0m\u001b[0;36m12\u001b[0m\u001b[0;34m,\u001b[0m \u001b[0;36m3\u001b[0m\u001b[0;34m)\u001b[0m\u001b[0;34m,\u001b[0m \u001b[0mkind\u001b[0m\u001b[0;34m=\u001b[0m\u001b[0;34m\"scatter\"\u001b[0m\u001b[0;34m)\u001b[0m\u001b[0;34m\u001b[0m\u001b[0;34m\u001b[0m\u001b[0m\n\u001b[0m",
            "\u001b[0;31mNameError\u001b[0m: name 'baseball' is not defined"
          ]
        }
      ]
    },
    {
      "cell_type": "code",
      "source": [
        "with pm.Model() as model_lb:\n",
        "\n",
        "    #priors for the linear part of our model\n",
        "    α = pm.Normal(\"α\", mu=0, sigma=100)\n",
        "    β = pm.Normal(\"β\", mu=0, sigma=10)\n",
        "\n",
        "    #this is the linear part of our model\n",
        "    μ = pm.Deterministic(\"μ\", α + β * baseball.sweet_spot_percent)\n",
        "\n",
        "    #prior for the standard deviation of our likelihood\n",
        "    #Cauchy is a T dist with nu = 1\n",
        "    σ = pm.HalfCauchy(\"σ\", 10)\n",
        "\n",
        "    #likelihood\n",
        "    y_pred = pm.Normal(\"y_pred\", mu=μ, sigma=σ, observed=baseball.hard hit percent)\n",
        "\n",
        "    #inference data object\n",
        "    idata_lb = pm.sample()"
      ],
      "metadata": {
        "colab": {
          "base_uri": "https://localhost:8080/",
          "height": 106
        },
        "id": "2akDuAH1IG7L",
        "outputId": "37ebf1b9-71ba-44a1-cb7c-3e593f0d07c4"
      },
      "execution_count": 8,
      "outputs": [
        {
          "output_type": "error",
          "ename": "SyntaxError",
          "evalue": "invalid syntax. Perhaps you forgot a comma? (<ipython-input-8-1805ef8968c9>, line 15)",
          "traceback": [
            "\u001b[0;36m  File \u001b[0;32m\"<ipython-input-8-1805ef8968c9>\"\u001b[0;36m, line \u001b[0;32m15\u001b[0m\n\u001b[0;31m    y_pred = pm.Normal(\"y_pred\", mu=μ, sigma=σ, observed=baseball.hard hit percent)\u001b[0m\n\u001b[0m                                                         ^\u001b[0m\n\u001b[0;31mSyntaxError\u001b[0m\u001b[0;31m:\u001b[0m invalid syntax. Perhaps you forgot a comma?\n"
          ]
        }
      ]
    },
    {
      "cell_type": "code",
      "source": [
        "pm.model_to_graphviz(model_lb)"
      ],
      "metadata": {
        "colab": {
          "base_uri": "https://localhost:8080/",
          "height": 141
        },
        "id": "7mdrc4saIhYg",
        "outputId": "c4f6d75b-944e-42c4-e638-cd8d050febd6"
      },
      "execution_count": 7,
      "outputs": [
        {
          "output_type": "error",
          "ename": "NameError",
          "evalue": "name 'model_lb' is not defined",
          "traceback": [
            "\u001b[0;31m---------------------------------------------------------------------------\u001b[0m",
            "\u001b[0;31mNameError\u001b[0m                                 Traceback (most recent call last)",
            "\u001b[0;32m<ipython-input-7-967f03f3977c>\u001b[0m in \u001b[0;36m<cell line: 1>\u001b[0;34m()\u001b[0m\n\u001b[0;32m----> 1\u001b[0;31m \u001b[0mpm\u001b[0m\u001b[0;34m.\u001b[0m\u001b[0mmodel_to_graphviz\u001b[0m\u001b[0;34m(\u001b[0m\u001b[0mmodel_lb\u001b[0m\u001b[0;34m)\u001b[0m\u001b[0;34m\u001b[0m\u001b[0;34m\u001b[0m\u001b[0m\n\u001b[0m",
            "\u001b[0;31mNameError\u001b[0m: name 'model_lb' is not defined"
          ]
        }
      ]
    },
    {
      "cell_type": "code",
      "source": [
        "az.plot_posterior(idata_lb, var_names=[\"~μ\"], figsize=(12, 3))"
      ],
      "metadata": {
        "id": "1qwm6PDkIkSn"
      },
      "execution_count": null,
      "outputs": []
    },
    {
      "cell_type": "code",
      "source": [
        "posterior = az.extract(idata_lb, num_samples=100)\n",
        "\n",
        "# grabbing x values for graphing.\n",
        "x_plot = xr.DataArray(\n",
        "    np.linspace(baseball.sweet spot percent.min(), baseball.sweet spot percent.max(), 50),\n",
        "    dims=\"plot_id\"\n",
        "    )\n",
        "\n",
        "# this creates the expected line, the path we predict temperature and\n",
        "#rented bike count deviates from\n",
        "mean_line = posterior[\"α\"].mean() + posterior[\"β\"].mean() * x_plot\n",
        "\n",
        "#These are a 50 lines that our model came up with\n",
        "lines = posterior[\"α\"] + posterior[\"β\"] * x_plot\n",
        "\n",
        "#set up plot\n",
        "_, ax = plt.subplots()\n",
        "\n",
        "#plots 50 other lines our model came up with.\n",
        "ax.plot(x_plot, lines.T, c=\"C1\", alpha=0.2, label=\"lines\")\n",
        "\n",
        "#plots the mean line\n",
        "ax.plot(x_plot, mean_line, c=\"C0\", label=\"mean line\")\n",
        "\n",
        "#plot the raw data\n",
        "ax.plot(baseball.sweet spot percent, baseball.hard hit percent, \"C2.\", zorder=-3)\n",
        "\n",
        "#label axes and create legend\n",
        "ax.set_xlabel(\"sweet spot percent\")\n",
        "ax.set_ylabel(\"hard hit percent\")"
      ],
      "metadata": {
        "id": "AoHC9flDIyXb"
      },
      "execution_count": null,
      "outputs": []
    },
    {
      "cell_type": "code",
      "source": [
        "pm.sample_posterior_predictive(idata_lb, model=model_lb,  extend_inferencedata=True)"
      ],
      "metadata": {
        "id": "KxySoY9xJL5O"
      },
      "execution_count": null,
      "outputs": []
    },
    {
      "cell_type": "code",
      "source": [
        "#plots the posterior predictive distribution\n",
        "\n",
        "#grabs the expected line, or line of best fit formula\n",
        "mean_line = idata_lb.posterior[\"μ\"].mean((\"chain\", \"draw\"))\n",
        "\n",
        "#creates some x values to run through our line formula\n",
        "sweet spot percent = np.random.normal(baseball.sweet spot percent.values, 0.01)\n",
        "idx = np.argsort(sweet spot percent)\n",
        "x = np.linspace(sweet spot percent.min(), sweet spot percent.max(), 15)\n",
        "\n",
        "#grabs the 94% HDI and 50% HDI, and sets them up for graphing.\n",
        "y_pred_q = idata_lb.posterior_predictive[\"y_pred\"].quantile(\n",
        "    [0.03, 0.97, 0.25, 0.75], dim=[\"chain\", \"draw\"]\n",
        ")\n",
        "y_hat_bounds = iter(\n",
        "    [\n",
        "        PchipInterpolator(sweet spot percent[idx], y_pred_q[i][idx])(x)\n",
        "        for i in range(4)\n",
        "    ]\n",
        ")\n",
        "\n",
        "#plots raw data and our line of best fit\n",
        "_, ax = plt.subplots()\n",
        "ax.plot(baseball.sweet spot percent, baseball.hard hit percent, \"C2.\", zorder=-3)\n",
        "ax.plot(baseball.sweet spot percent[idx], mean_line[idx], c=\"C0\")\n",
        "\n",
        "\n",
        "#graphs the 94% and 50% HDIs\n",
        "for lb, ub in zip(y_hat_bounds, y_hat_bounds):\n",
        "    ax.fill_between(x, lb, ub, color=\"C1\", alpha=0.5)\n",
        "\n",
        "#labels\n",
        "ax.set_xlabel(\"sweet spot percent\")\n",
        "ax.set_ylabel(\"hard hit percent\")"
      ],
      "metadata": {
        "id": "Hokqf5LFJQd4"
      },
      "execution_count": null,
      "outputs": []
    },
    {
      "cell_type": "code",
      "source": [
        "az.plot_ppc(idata_lb, num_pp_samples=200, colors=[\"C1\", \"C0\", \"C1\"])"
      ],
      "metadata": {
        "id": "vyw9qqLRJ0cZ"
      },
      "execution_count": null,
      "outputs": []
    },
    {
      "cell_type": "code",
      "source": [
        "sns.violinplot(baseball.hard hit percent)"
      ],
      "metadata": {
        "id": "_CjjwRUYJ1EH"
      },
      "execution_count": null,
      "outputs": []
    },
    {
      "cell_type": "code",
      "source": [
        "with pm.Model() as model_nbb:\n",
        "\n",
        "    #priors for the linear part of the model\n",
        "    α = pm.Normal(\"α\", mu=0, sigma=1)\n",
        "    β = pm.Normal(\"β\", mu=0, sigma=10)\n",
        "\n",
        "    #the linear part of our model,\n",
        "    #but with a twist:\n",
        "    #our line is exponentiated, in order to make our all our values positive\n",
        "    μ = pm.Deterministic(\"μ\", pm.math.exp(α + β * baseball.sweet spot percent))\n",
        "\n",
        "    #prior for the likelihood's standard deviation\n",
        "    σ = pm.HalfNormal(\"σ\", 10)\n",
        "\n",
        "    #likelihood\n",
        "    y_pred = pm.NegativeBinomial(\"y_pred\", mu=μ, alpha=σ, observed=baseball.hard hit percent)\n",
        "\n",
        "    idata_nbb = pm.sample()"
      ],
      "metadata": {
        "id": "r2IYqwgdJ6Zz"
      },
      "execution_count": null,
      "outputs": []
    },
    {
      "cell_type": "code",
      "source": [
        "pm.sample_posterior_predictive(idata_nbb, model = model_nbb, extend_inferencedata=True)"
      ],
      "metadata": {
        "id": "4-2NdQ3dKHkc"
      },
      "execution_count": null,
      "outputs": []
    },
    {
      "cell_type": "code",
      "source": [
        "az.plot_ppc(idata_nbb, num_pp_samples=200, colors=[\"C1\", \"C0\", \"C1\"])"
      ],
      "metadata": {
        "id": "NZ1Q2-UbKJYU"
      },
      "execution_count": null,
      "outputs": []
    },
    {
      "cell_type": "code",
      "source": [
        "mean_line = idata_nbb.posterior[\"μ\"].mean((\"chain\", \"draw\"))\n",
        "sweet spot percent = np.random.normal(baseball.sweet spot percent.values, 0.01)\n",
        "idx = np.argsort(sweet spot percent)\n",
        "x = np.linspace(sweet spot percent.min(), sweet spot percent.max(), 15)\n",
        "y_pred_q = idata_nbb.posterior_predictive[\"y_pred\"].quantile(\n",
        "    [0.03, 0.97, 0.25, 0.75], dim=[\"chain\", \"draw\"]\n",
        ")\n",
        "y_hat_bounds = iter(\n",
        "    [\n",
        "        PchipInterpolator(sweet_spot_percent[idx], y_pred_q[i][idx])(x)\n",
        "        for i in range(4)\n",
        "    ]\n",
        ")\n",
        "\n",
        "_, ax = plt.subplots()\n",
        "ax.plot(baseball.sweet spot percent, baseball.hard hit percent, \"C2.\", zorder=-3)\n",
        "ax.plot(baseball.sweet spot percent[idx], mean_line[idx], c=\"C0\")\n",
        "\n",
        "for lb, ub in zip(y_hat_bounds, y_hat_bounds):\n",
        "    ax.fill_between(x, lb, ub, color=\"C1\", alpha=0.5)\n",
        "\n",
        "ax.set_xlabel(\"sweet spot percent\")\n",
        "ax.set_ylabel(\"hard hit percent\")"
      ],
      "metadata": {
        "id": "p7L8Mmx5KMZF"
      },
      "execution_count": null,
      "outputs": []
    },
    {
      "cell_type": "markdown",
      "source": [
        "Through this project I learned that a lot of the hardest hitters dont need to have a high sweet spot rate in order to hit bombs! Oneil Cruz has a 22.8 percent differential between his sweet spot and hard hit percentages, and I dont think thats the biggest difference in the league. There are a lot of players that swing hard every time and can hit homeruns, but I always thought those homeruns came from sweet spots only, however some of this data disproves that."
      ],
      "metadata": {
        "id": "teGI4vUnLcqT"
      }
    }
  ]
}