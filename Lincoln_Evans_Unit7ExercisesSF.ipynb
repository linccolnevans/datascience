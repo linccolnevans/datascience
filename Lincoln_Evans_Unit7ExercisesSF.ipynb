{
  "cells": [
    {
      "cell_type": "markdown",
      "metadata": {
        "id": "view-in-github",
        "colab_type": "text"
      },
      "source": [
        "<a href=\"https://colab.research.google.com/github/linccolnevans/datascience/blob/main/Lincoln_Evans_Unit7ExercisesSF.ipynb\" target=\"_parent\"><img src=\"https://colab.research.google.com/assets/colab-badge.svg\" alt=\"Open In Colab\"/></a>"
      ]
    },
    {
      "cell_type": "markdown",
      "metadata": {
        "id": "nVWnEQSH4us3"
      },
      "source": [
        "# Fitting Curves: Concepts\n",
        "\n",
        "What you'll do:\n",
        "\n",
        "- Answer questions about what a GP is, and its relationship to GLMs and splines.\n",
        "- Practice applying one of: polynomial modeling, b splines, or GPs\n",
        "- You'll get a chance to read about and try to comprehend a more standard implementation of a GP.\n",
        "\n",
        "Have fun!"
      ]
    },
    {
      "cell_type": "code",
      "source": [
        "\n",
        "!pip install git+https://github.com/pydata/xarray.git\n",
        "!pip install bambi\n"
      ],
      "metadata": {
        "id": "pK1e6UfOoHwt"
      },
      "execution_count": null,
      "outputs": []
    },
    {
      "cell_type": "code",
      "source": [
        "import numpy as np\n",
        "from matplotlib import pyplot as plt\n",
        "import seaborn as sns\n",
        "import pandas as pd\n",
        "import arviz as az\n",
        "import xarray as xr\n",
        "import pymc as pm\n",
        "import bambi as bmb\n",
        "from scipy.interpolate import PchipInterpolator"
      ],
      "metadata": {
        "colab": {
          "base_uri": "https://localhost:8080/",
          "height": 367
        },
        "id": "CBF3DnK8n5PF",
        "outputId": "1744bb98-b184-4191-880a-08b6583acd0e"
      },
      "execution_count": null,
      "outputs": [
        {
          "output_type": "error",
          "ename": "ModuleNotFoundError",
          "evalue": "No module named 'bambi'",
          "traceback": [
            "\u001b[0;31m---------------------------------------------------------------------------\u001b[0m",
            "\u001b[0;31mModuleNotFoundError\u001b[0m                       Traceback (most recent call last)",
            "\u001b[0;32m<ipython-input-1-36628a0cde01>\u001b[0m in \u001b[0;36m<cell line: 0>\u001b[0;34m()\u001b[0m\n\u001b[1;32m      6\u001b[0m \u001b[0;32mimport\u001b[0m \u001b[0mxarray\u001b[0m \u001b[0;32mas\u001b[0m \u001b[0mxr\u001b[0m\u001b[0;34m\u001b[0m\u001b[0;34m\u001b[0m\u001b[0m\n\u001b[1;32m      7\u001b[0m \u001b[0;32mimport\u001b[0m \u001b[0mpymc\u001b[0m \u001b[0;32mas\u001b[0m \u001b[0mpm\u001b[0m\u001b[0;34m\u001b[0m\u001b[0;34m\u001b[0m\u001b[0m\n\u001b[0;32m----> 8\u001b[0;31m \u001b[0;32mimport\u001b[0m \u001b[0mbambi\u001b[0m \u001b[0;32mas\u001b[0m \u001b[0mbmb\u001b[0m\u001b[0;34m\u001b[0m\u001b[0;34m\u001b[0m\u001b[0m\n\u001b[0m\u001b[1;32m      9\u001b[0m \u001b[0;32mfrom\u001b[0m \u001b[0mscipy\u001b[0m\u001b[0;34m.\u001b[0m\u001b[0minterpolate\u001b[0m \u001b[0;32mimport\u001b[0m \u001b[0mPchipInterpolator\u001b[0m\u001b[0;34m\u001b[0m\u001b[0;34m\u001b[0m\u001b[0m\n",
            "\u001b[0;31mModuleNotFoundError\u001b[0m: No module named 'bambi'",
            "",
            "\u001b[0;31m---------------------------------------------------------------------------\u001b[0;32m\nNOTE: If your import is failing due to a missing package, you can\nmanually install dependencies using either !pip or !apt.\n\nTo view examples of installing some common dependencies, click the\n\"Open Examples\" button below.\n\u001b[0;31m---------------------------------------------------------------------------\u001b[0m\n"
          ],
          "errorDetails": {
            "actions": [
              {
                "action": "open_url",
                "actionText": "Open Examples",
                "url": "/notebooks/snippets/importing_libraries.ipynb"
              }
            ]
          }
        }
      ]
    },
    {
      "cell_type": "code",
      "source": [
        "!pip install sklearn # ! says to run in terminal\n",
        "from sklearn.linear_model import LinearRegression # import the linear regression model"
      ],
      "metadata": {
        "id": "vmPKEthvn8gj"
      },
      "execution_count": null,
      "outputs": []
    },
    {
      "cell_type": "markdown",
      "metadata": {
        "id": "dvOGkgka7zwk"
      },
      "source": [
        "**Task1**:\n",
        "\n",
        "Why would you ever want to include a polynomial element in a model you built? What's the benefit of using polynomials to model?"
      ]
    },
    {
      "cell_type": "markdown",
      "source": [
        "Its important to have coefficients variables and exponents in a model, and trhey benefit the model since they are polynomial elements."
      ],
      "metadata": {
        "id": "k-srgP6ZXvw_"
      }
    },
    {
      "cell_type": "markdown",
      "metadata": {
        "id": "yoz8Bb-HQaqB"
      },
      "source": [
        "**Task2**:\n",
        "\n",
        "Why would you ever NOT want to include a polynomial element in a model you built?"
      ]
    },
    {
      "cell_type": "markdown",
      "source": [
        "When there is overfitting you may not want to include a polynomial element, you also dont want to include them when using logarithmic-looking relationships."
      ],
      "metadata": {
        "id": "V7ckjHXPb2_A"
      }
    },
    {
      "cell_type": "markdown",
      "metadata": {
        "id": "MaLdFTKNatZs"
      },
      "source": [
        "**Task3**:\n",
        "\n",
        "What's the point of using b splines?"
      ]
    },
    {
      "cell_type": "markdown",
      "source": [
        "The point of using B-splines is to create smooth, flexible curves and surfaces that can be easily manipulated and controlled, particularly in computer graphics, CAD modeling, and data analysis."
      ],
      "metadata": {
        "id": "76LMdaO-caDI"
      }
    },
    {
      "cell_type": "markdown",
      "metadata": {
        "id": "M51jgnvxeg1o"
      },
      "source": [
        "**Task4**:\n",
        "\n",
        "Describe what a Gaussian Process is, in your own words. *Don't worry about being correct, just try to explain it to yourself*. I will not grade this question for accuracy."
      ]
    },
    {
      "cell_type": "markdown",
      "source": [
        "a Gaussian process is a stochastic process, such that every finite collection of those random variables has a multivariate normal distribution."
      ],
      "metadata": {
        "id": "z-1hpgBod4Zb"
      }
    },
    {
      "cell_type": "markdown",
      "source": [
        "**Task5**:\n",
        "\n",
        "Refit a model to the howell data, using one of the following: polynomial model, b splines, or GPs.\n",
        "Plot the posterior predictive check on a scatter plot\n",
        "\n",
        "You only need to use one . Remember, the simpler the model is, the better (usually).\n",
        "\n",
        "Hint: If you use a polynomial or bspline, try a disdributional model\n"
      ],
      "metadata": {
        "id": "94o5En1fQVja"
      }
    },
    {
      "cell_type": "code",
      "source": [
        "howell = pd.read_csv('https://raw.githubusercontent.com/thedarredondo/data-science-fundamentals/main/Data/howell.csv')"
      ],
      "metadata": {
        "id": "FuRrTtpNnyek"
      },
      "execution_count": null,
      "outputs": []
    },
    {
      "cell_type": "markdown",
      "source": [
        "I tried figuring this one out on a different colab document and I just didn't understand it, can you help me out next class?"
      ],
      "metadata": {
        "id": "wWakgGjgksJq"
      }
    },
    {
      "cell_type": "markdown",
      "source": [
        "**Task6**:\n",
        "\n",
        "Read the article on the pymc website about GP implementation on the Mauna Loa CO$_{2}$ data combined with CO$_{2}$ ice core data from the south pole.\n",
        "[Link here.](https://www.pymc.io/projects/examples/en/latest/gaussian_processes/GP-MaunaLoa2.html)\n",
        "\n",
        "Write down one thing you learned about GPs from reading the article.\n",
        "\n",
        "Note: You probably won't understand anything in this article. The main point of this task is to hammer home that good GP implementations are extremely technical."
      ],
      "metadata": {
        "id": "oYy-Gpzbpm8A"
      }
    },
    {
      "cell_type": "markdown",
      "source": [
        "I learned a lot about CO2 emissions related to time in centuries and the insane spike that has been occuring recently.  "
      ],
      "metadata": {
        "id": "ObGBW9G-fpdL"
      }
    },
    {
      "cell_type": "markdown",
      "source": [
        "**Task7**:\n",
        "\n",
        "Describe your favorite graph from the article in the previous task. Explain why its your favorite."
      ],
      "metadata": {
        "id": "T4dngCCrrO_q"
      }
    },
    {
      "cell_type": "markdown",
      "source": [
        "I loved the one about carbon emissions in relation to time going back to BCE. It showed the disparity between early civilizations and the mass consumption that is going on currently."
      ],
      "metadata": {
        "id": "73yxbMaqi2OO"
      }
    }
  ],
  "metadata": {
    "colab": {
      "provenance": [],
      "include_colab_link": true
    },
    "kernelspec": {
      "display_name": "Python 3",
      "name": "python3"
    },
    "language_info": {
      "name": "python"
    }
  },
  "nbformat": 4,
  "nbformat_minor": 0
}